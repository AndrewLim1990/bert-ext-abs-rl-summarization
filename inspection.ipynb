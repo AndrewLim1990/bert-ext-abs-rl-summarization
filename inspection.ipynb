{
 "cells": [
  {
   "cell_type": "markdown",
   "metadata": {},
   "source": [
    "# Summary"
   ]
  },
  {
   "cell_type": "code",
   "execution_count": 1,
   "metadata": {},
   "outputs": [],
   "source": [
    "from abstractor.train import get_training_batch as get_abstractor_training_batch\n",
    "from abstractor.utils import AbstractorModel, AbstractorModelRNN\n",
    "from abstractor.utils import obtain_initial_hidden_states\n",
    "from bert.utils import obtain_sentence_embeddings\n",
    "from bert.utils import obtain_word_embeddings\n",
    "from data.utils import load_training_dictionaries\n",
    "from extractor.train import get_training_batch as get_extractor_training_batch\n",
    "from extractor.utils import ExtractorModel\n",
    "from extractor.train import convert_training_dict\n",
    "from pytorch_transformers import BertModel\n",
    "from pytorch_transformers import BertTokenizer\n",
    "from matplotlib import pyplot as plt\n",
    "from rl_connection.utils import RLModel\n",
    "from rl_connection.train import get_training_batch as get_rl_training_batch\n",
    "from rouge import Rouge\n",
    "\n",
    "import numpy as np\n",
    "import pickle\n",
    "import torch"
   ]
  },
  {
   "cell_type": "code",
   "execution_count": 2,
   "metadata": {},
   "outputs": [],
   "source": [
    "def print_results(results):\n",
    "    for x in results:\n",
    "        print(f'{x}\\n')"
   ]
  },
  {
   "cell_type": "markdown",
   "metadata": {},
   "source": [
    "## Load data"
   ]
  },
  {
   "cell_type": "code",
   "execution_count": 3,
   "metadata": {},
   "outputs": [],
   "source": [
    "bert_tokenizer = BertTokenizer.from_pretrained('bert-base-uncased')\n",
    "bert_model = BertModel.from_pretrained('bert-base-uncased')"
   ]
  },
  {
   "cell_type": "code",
   "execution_count": 26,
   "metadata": {},
   "outputs": [],
   "source": [
    "data = load_training_dictionaries()\n",
    "documents, extraction_labels = convert_training_dict(data)"
   ]
  },
  {
   "cell_type": "markdown",
   "metadata": {},
   "source": [
    "## Extractor"
   ]
  },
  {
   "cell_type": "code",
   "execution_count": 5,
   "metadata": {},
   "outputs": [
    {
     "data": {
      "text/plain": [
       "<All keys matched successfully>"
      ]
     },
     "execution_count": 5,
     "metadata": {},
     "output_type": "execute_result"
    }
   ],
   "source": [
    "# Load extractor model:\n",
    "extractor_model = ExtractorModel(bert_tokenizer, bert_model)\n",
    "extractor_model_path = \"results/models/extractor.pt\"\n",
    "extractor_model.load_state_dict(torch.load(extractor_model_path))"
   ]
  },
  {
   "cell_type": "code",
   "execution_count": 8,
   "metadata": {},
   "outputs": [
    {
     "data": {
      "image/png": "[encoded data removed]",
      "text/plain": [
       "<Figure size 432x288 with 1 Axes>"
      ]
     },
     "metadata": {
      "needs_background": "light"
     },
     "output_type": "display_data"
    }
   ],
   "source": [
    "ext_training_loss = pickle.load(open('results/losses/extractor_training_losses.pkl', 'rb'))\n",
    "\n",
    "def get_moving_average(a, n=3) :\n",
    "    moving_average = np.cumsum(a, dtype=float)\n",
    "    moving_average[n:] = moving_average[n:] - moving_average[:-n] # Shift and subtract\n",
    "    moving_average = moving_average[n - 1:] / n\n",
    "    return moving_average\n",
    "\n",
    "\n",
    "moving_average = get_moving_average(ext_training_loss, n=100)\n",
    "plt.plot(moving_average)\n",
    "plt.show()"
   ]
  },
  {
   "cell_type": "code",
   "execution_count": 9,
   "metadata": {},
   "outputs": [],
   "source": [
    "sentence_embeddings, sentence_mask = obtain_sentence_embeddings(\n",
    "    extractor_model.bert_model, \n",
    "    extractor_model.bert_tokenizer, \n",
    "    documents\n",
    ")"
   ]
  },
  {
   "cell_type": "code",
   "execution_count": 10,
   "metadata": {
    "scrolled": true
   },
   "outputs": [
    {
     "name": "stdout",
     "output_type": "stream",
     "text": [
      "############### PREDICTIONS: ###############\n",
      "alison wilson , 36 , ( pictured ) died after stopping to help break up a late - night street row between a man and a woman with a baby in widnes , cheshire .\n",
      "\n",
      "alison wilson , 36 , is believed to have been returning to her home in widnes , cheshire , when she spotted a disturbance between the man and the mother and baby .\n",
      "\n",
      "she was taken to whiston hospital following the incident at about 11.20 pm on saturday , march 7 , but died from her injuries six days later on march 13 .\n",
      "\n",
      "she was taken to whiston hospital following the incident at about 11.20 pm on saturday , march 7 , but died from her injuries six days later on march 13 .\n",
      "\n",
      "mrs wilson joined another passer - by in trying to break up the row in a residential street in widnes , cheshire , ( pictured ) at 11.20 pm on march 7 but suffered serious injuries after being attacked while trying to intervene .\n",
      "\n",
      "stephen duggan , 27 , of no fixed abode , was arrested in connection with the incident and remains in custody charged with two counts of wounding with intent and two counts of assault .\n",
      "\n",
      "############### TARGETS: ###############\n",
      "alison wilson , 36 , ( pictured ) died after stopping to help break up a late - night street row between a man and a woman with a baby in widnes , cheshire .\n",
      "\n",
      "alison wilson , 36 , is believed to have been returning to her home in widnes , cheshire , when she spotted a disturbance between the man and the mother and baby .\n",
      "\n",
      "ms wilson and her partner , 43 , tried to break up the row but suffered serious injuries after being attacked while trying to intervene .\n",
      "\n",
      "she was taken to whiston hospital following the incident at about 11.20 pm on saturday , march 7 , but died from her injuries six days later on march 13 .\n",
      "\n",
      "mrs wilson joined another passer - by in trying to break up the row in a residential street in widnes , cheshire , ( pictured ) at 11.20 pm on march 7 but suffered serious injuries after being attacked while trying to intervene .\n",
      "\n",
      "stephen duggan , 27 , of no fixed abode , was arrested in connection with the incident and remains in custody charged with two counts of wounding with intent and two counts of assault .\n",
      "\n",
      "--------------------------------------------------------\n",
      "--------------------------------------------------------\n",
      "--------------------------------------------------------\n",
      "\n",
      "############### PREDICTIONS: ###############\n",
      "during the fight , the 33 - year - old kicked her between her legs , leading her to require hospital treatment .\n",
      "\n",
      "womaniser : dj malachi halstead has been jailed for attacking his girlfriend when she complained about him cheating on her ; these photographs show him posing in nightclubs with a number of different women .\n",
      "\n",
      "newport crown court heard that halstead , who djs under the names ' madman ' and ' madskie ' , admits that ' fidelity is not his strongest quality ' .\n",
      "\n",
      "the dj , who has the word ' madman ' tattooed across his back , has previously been spent time in jail for a variety of offences .\n",
      "\n",
      "############### TARGETS: ###############\n",
      "during the fight , the 33 - year - old kicked her between her legs , leading her to require hospital treatment .\n",
      "\n",
      "womaniser : dj malachi halstead has been jailed for attacking his girlfriend when she complained about him cheating on her ; these photographs show him posing in nightclubs with a number of different women .\n",
      "\n",
      "newport crown court heard that halstead , who djs under the names ' madman ' and ' madskie ' , admits that ' fidelity is not his strongest quality ' .\n",
      "\n",
      "the dj , who has the word ' madman ' tattooed across his back , has previously been spent time in jail for a variety of offences .\n",
      "\n",
      "--------------------------------------------------------\n",
      "--------------------------------------------------------\n",
      "--------------------------------------------------------\n",
      "\n",
      "############### PREDICTIONS: ###############\n",
      "a new paper published by a group of software engineers suggests that the internet search giant may be preparing to change the algorithms it uses to scour the web .\n",
      "\n",
      "google may be about to change the way it delivers search results to users by ranking results by accuracy .\n",
      "\n",
      "android pay users will then be able to upload credit card or debit card information to a single secure location but use it to pay for items across apps .\n",
      "\n",
      "they use a system they have called knowledge - based trust , which pulls facts from many pages and then jointly estimates the correctness and accuracy of these .\n",
      "\n",
      "the list of the top five gossip sites above currently rank in the top 15 per cent of search results but google researchers say that using their new algorithm these will be religated to the bottom half of search results .\n",
      "\n",
      "############### TARGETS: ###############\n",
      "a new paper published by a group of software engineers suggests that the internet search giant may be preparing to change the algorithms it uses to scour the web .\n",
      "\n",
      "currently web searches are ranked by , among other things , the number of incoming links to a page to help google 's search bots determine the quality of the link .\n",
      "\n",
      "google researchers have developed a new algorithm that looks for facts and inaccuracies on web pages .\n",
      "\n",
      "they use a system they have called knowledge - based trust , which pulls facts from many pages and then jointly estimates the correctness and accuracy of these .\n",
      "\n",
      "the list of the top five gossip sites above currently rank in the top 15 per cent of search results but google researchers say that using their new algorithm these will be religated to the bottom half of search results .\n",
      "\n",
      "--------------------------------------------------------\n",
      "--------------------------------------------------------\n",
      "--------------------------------------------------------\n",
      "\n",
      "############### PREDICTIONS: ###############\n",
      "amy goldberg , 57 , was charged with battery on a person 65 years or older after the incident .\n",
      "\n",
      "a boca raton woman is accused of smearing dog poop on her elderly neighbor 's face to get revenge following argument .\n",
      "\n",
      "the smearing suspect 's neighbor was walking her dog when the animal defecated on the lawn in front of goldberg 's home at the woodfield country club in boca raton , according to an arrest report .\n",
      "\n",
      "if convicted , goldberg could be sentenced to a minimum of three years in prison and be forced to pay fines of up to $ 10,000 .\n",
      "\n",
      "############### TARGETS: ###############\n",
      "amy goldberg , 57 , was charged with battery on a person 65 years or older after the incident .\n",
      "\n",
      "amy goldberg is accused of putting it on her 67 - year - old neighbor 's face and arms last week .\n",
      "\n",
      "the smearing suspect 's neighbor was walking her dog when the animal defecated on the lawn in front of goldberg 's home at the woodfield country club in boca raton , according to an arrest report .\n",
      "\n",
      "if convicted , goldberg could be sentenced to a minimum of three years in prison and be forced to pay fines of up to $ 10,000 .\n",
      "\n",
      "--------------------------------------------------------\n",
      "--------------------------------------------------------\n",
      "--------------------------------------------------------\n",
      "\n"
     ]
    }
   ],
   "source": [
    "samp_embeddings, samp_masks, samp_labels, samp_indicies = get_extractor_training_batch(\n",
    "    sentence_embeddings,\n",
    "    sentence_mask,\n",
    "    extraction_labels,\n",
    "    batch_size=4\n",
    ")\n",
    "\n",
    "\n",
    "doc_lengths = torch.sum(samp_masks, dim=1)\n",
    "samp_embeddings = torch.nn.utils.rnn.pack_padded_sequence(\n",
    "    samp_embeddings,\n",
    "    lengths=doc_lengths,\n",
    "    batch_first=True,\n",
    "    enforce_sorted=False\n",
    ")\n",
    "\n",
    "\n",
    "# Predict probability of extraction per sentence\n",
    "extraction_probabilities, extraction_mask = extractor_model(samp_embeddings, samp_masks, samp_labels)\n",
    "\n",
    "for batch_idx, ext_probs in enumerate(extraction_probabilities):\n",
    "    doc = documents[samp_indicies[batch_idx]]\n",
    "    \n",
    "#     ext_sent_indicies = torch.tensor(range(extraction_mask[batch_idx].sum()))\n",
    "    ext_sent_indicies = torch.argmax(ext_probs, dim=-1)[:extraction_mask[batch_idx].sum()]\n",
    "\n",
    "    predicted_ext_sents = np.array(doc)[ext_sent_indicies]\n",
    "    target_ext_sents = np.array(doc)[torch.where(samp_labels[batch_idx])]\n",
    "    \n",
    "    \n",
    "    print(\"############### PREDICTIONS: ###############\")\n",
    "    print_results(predicted_ext_sents)\n",
    "    print(\"############### TARGETS: ###############\")\n",
    "    print_results(target_ext_sents)\n",
    "    print('--------------------------------------------------------')\n",
    "    print('--------------------------------------------------------')\n",
    "    print('--------------------------------------------------------\\n')\n",
    "    "
   ]
  },
  {
   "cell_type": "markdown",
   "metadata": {},
   "source": [
    "## Tinkering"
   ]
  },
  {
   "cell_type": "code",
   "execution_count": 28,
   "metadata": {},
   "outputs": [],
   "source": [
    "data = load_training_dictionaries()\n",
    "documents, ext_labs = convert_training_dict(data)"
   ]
  },
  {
   "cell_type": "code",
   "execution_count": 32,
   "metadata": {},
   "outputs": [
    {
     "ename": "KeyError",
     "evalue": "0",
     "output_type": "error",
     "traceback": [
      "\u001b[0;31m---------------------------------------------------------------------------\u001b[0m",
      "\u001b[0;31mKeyError\u001b[0m                                  Traceback (most recent call last)",
      "\u001b[0;32m<ipython-input-32-08d29545db52>\u001b[0m in \u001b[0;36m<module>\u001b[0;34m\u001b[0m\n\u001b[1;32m     39\u001b[0m     \u001b[0;31m# Obtain distribution amongst sentences to extract\u001b[0m\u001b[0;34m\u001b[0m\u001b[0;34m\u001b[0m\u001b[0;34m\u001b[0m\u001b[0m\n\u001b[1;32m     40\u001b[0m     \u001b[0;32mif\u001b[0m \u001b[0mis_first_sent\u001b[0m\u001b[0;34m:\u001b[0m\u001b[0;34m\u001b[0m\u001b[0;34m\u001b[0m\u001b[0m\n\u001b[0;32m---> 41\u001b[0;31m         \u001b[0maction_probs\u001b[0m\u001b[0;34m,\u001b[0m \u001b[0m__\u001b[0m \u001b[0;34m=\u001b[0m \u001b[0mextractor_model\u001b[0m\u001b[0;34m.\u001b[0m\u001b[0mforward\u001b[0m\u001b[0;34m(\u001b[0m\u001b[0mbatch_state\u001b[0m\u001b[0;34m,\u001b[0m \u001b[0mmask\u001b[0m\u001b[0;34m)\u001b[0m\u001b[0;34m\u001b[0m\u001b[0;34m\u001b[0m\u001b[0m\n\u001b[0m\u001b[1;32m     42\u001b[0m         \u001b[0mis_first_sent\u001b[0m \u001b[0;34m=\u001b[0m \u001b[0;32mFalse\u001b[0m\u001b[0;34m\u001b[0m\u001b[0;34m\u001b[0m\u001b[0m\n\u001b[1;32m     43\u001b[0m     \u001b[0;32melse\u001b[0m\u001b[0;34m:\u001b[0m\u001b[0;34m\u001b[0m\u001b[0;34m\u001b[0m\u001b[0m\n",
      "\u001b[0;32m~/projects/summarization/extractor/utils.py\u001b[0m in \u001b[0;36mforward\u001b[0;34m(self, sent_embeddings, sent_mask, extraction_indicator, use_init_embedding)\u001b[0m\n\u001b[1;32m     89\u001b[0m             \u001b[0mext_indicator_dict\u001b[0m\u001b[0;34m=\u001b[0m\u001b[0mext_indicator_dict\u001b[0m\u001b[0;34m,\u001b[0m\u001b[0;34m\u001b[0m\u001b[0;34m\u001b[0m\u001b[0m\n\u001b[1;32m     90\u001b[0m             \u001b[0msrc_sent_mask\u001b[0m\u001b[0;34m=\u001b[0m\u001b[0msent_mask\u001b[0m\u001b[0;34m,\u001b[0m\u001b[0;34m\u001b[0m\u001b[0;34m\u001b[0m\u001b[0m\n\u001b[0;32m---> 91\u001b[0;31m             \u001b[0muse_init_embedding\u001b[0m\u001b[0;34m=\u001b[0m\u001b[0muse_init_embedding\u001b[0m\u001b[0;34m\u001b[0m\u001b[0;34m\u001b[0m\u001b[0m\n\u001b[0m\u001b[1;32m     92\u001b[0m         )\n\u001b[1;32m     93\u001b[0m \u001b[0;34m\u001b[0m\u001b[0m\n",
      "\u001b[0;32m~/projects/summarization/extractor/utils.py\u001b[0m in \u001b[0;36mobtain_extraction_probabilities\u001b[0;34m(self, h, ext_indicator_dict, src_sent_mask, use_init_embedding)\u001b[0m\n\u001b[1;32m    118\u001b[0m             \u001b[0mh_selected\u001b[0m \u001b[0;34m=\u001b[0m \u001b[0mlist\u001b[0m\u001b[0;34m(\u001b[0m\u001b[0;34m)\u001b[0m\u001b[0;34m\u001b[0m\u001b[0;34m\u001b[0m\u001b[0m\n\u001b[1;32m    119\u001b[0m             \u001b[0;32mfor\u001b[0m \u001b[0mi\u001b[0m \u001b[0;32min\u001b[0m \u001b[0mrange\u001b[0m\u001b[0;34m(\u001b[0m\u001b[0mn_batches\u001b[0m\u001b[0;34m)\u001b[0m\u001b[0;34m:\u001b[0m\u001b[0;34m\u001b[0m\u001b[0;34m\u001b[0m\u001b[0m\n\u001b[0;32m--> 120\u001b[0;31m                 \u001b[0mtemp_h\u001b[0m \u001b[0;34m=\u001b[0m \u001b[0mh\u001b[0m\u001b[0;34m[\u001b[0m\u001b[0mi\u001b[0m\u001b[0;34m,\u001b[0m \u001b[0mext_indicator_dict\u001b[0m\u001b[0;34m[\u001b[0m\u001b[0mi\u001b[0m\u001b[0;34m]\u001b[0m\u001b[0;34m]\u001b[0m\u001b[0;34m\u001b[0m\u001b[0;34m\u001b[0m\u001b[0m\n\u001b[0m\u001b[1;32m    121\u001b[0m                 \u001b[0;32mif\u001b[0m \u001b[0muse_init_embedding\u001b[0m\u001b[0;34m:\u001b[0m\u001b[0;34m\u001b[0m\u001b[0;34m\u001b[0m\u001b[0m\n\u001b[1;32m    122\u001b[0m                     \u001b[0mtemp_h\u001b[0m \u001b[0;34m=\u001b[0m \u001b[0mtorch\u001b[0m\u001b[0;34m.\u001b[0m\u001b[0mcat\u001b[0m\u001b[0;34m(\u001b[0m\u001b[0;34m[\u001b[0m\u001b[0mself\u001b[0m\u001b[0;34m.\u001b[0m\u001b[0minit_sent_embedding\u001b[0m\u001b[0;34m,\u001b[0m \u001b[0mtemp_h\u001b[0m\u001b[0;34m]\u001b[0m\u001b[0;34m)\u001b[0m\u001b[0;34m\u001b[0m\u001b[0;34m\u001b[0m\u001b[0m\n",
      "\u001b[0;31mKeyError\u001b[0m: 0"
     ]
    }
   ],
   "source": [
    "batch_size = 4 \n",
    "\n",
    "batch_state, mask, samp_labels, samp_indicies = get_extractor_training_batch(\n",
    "    sentence_embeddings,\n",
    "    sentence_mask,\n",
    "    ext_labs,\n",
    "    batch_size=batch_size\n",
    ")\n",
    "\n",
    "n_label_sents = samp_labels.sum(-1)\n",
    "# Obtain maximum number of sentences to extract\n",
    "if n_label_sents is None:\n",
    "    n_doc_sents = mask.sum(dim=1)\n",
    "    batch_max_n_ext_sents = torch.tensor([self.max_n_ext_sents] * batch_size)\n",
    "    batch_max_n_ext_sents = torch.min(batch_max_n_ext_sents.float(), n_doc_sents)\n",
    "else:\n",
    "    batch_max_n_ext_sents = n_label_sents\n",
    "\n",
    "# Create variables to stop extraction loop\n",
    "max_n_ext_sents = batch_max_n_ext_sents.max()  # Maximum number of sentences to extract\n",
    "n_actions = batch_state.shape[1]\n",
    "stop_action_idx = n_actions - 1  # Previously appended stop_action embedding\n",
    "is_stop_action = torch.zeros(batch_size).bool()\n",
    "\n",
    "doc_lengths = torch.sum(samp_masks, dim=1)\n",
    "batch_state = torch.nn.utils.rnn.pack_padded_sequence(\n",
    "    batch_state,\n",
    "    lengths=doc_lengths,\n",
    "    batch_first=True,\n",
    "    enforce_sorted=False\n",
    ")\n",
    "\n",
    "# Extraction loop\n",
    "action_indicies, ext_sents, action_dists, stop_action_list = list(), list(), list(), list()\n",
    "n_ext_sents = 0\n",
    "is_first_sent = True\n",
    "extraction_labels = None\n",
    "while True:\n",
    "    # Obtain distribution amongst sentences to extract\n",
    "    if is_first_sent:\n",
    "        action_probs, __ = extractor_model.forward(batch_state, mask)\n",
    "        is_first_sent = False\n",
    "    else:\n",
    "        action_probs, action_mask = extractor_model.forward(\n",
    "            sent_embeddings=batch_state,\n",
    "            sent_mask=mask,\n",
    "            extraction_indicator=extraction_labels,\n",
    "            use_init_embedding=False\n",
    "        )\n",
    "\n",
    "#     # Don't select already extracted sentences\n",
    "#     # Todo: Fix this, something is wrong with the shapes.\n",
    "#     if action_indicies:\n",
    "#         indicies_to_ignore = torch.cat(action_indicies).T\n",
    "#         extraction_mask = torch.ones(action_probs.shape)\n",
    "#         batch_idx = [[x] for x in range(batch_size)]\n",
    "#         extraction_mask[batch_idx, 0, indicies_to_ignore] = 0\n",
    "#         action_probs = action_probs * extraction_mask\n",
    "\n",
    "#     # For probability distribution\n",
    "#     action_dist = self.convert_to_dist(action_probs)\n",
    "#     action_dist = Categorical(action_dist)\n",
    "\n",
    "#     # Sample sentence to extract\n",
    "#     action_idx = action_dist.sample().T\n",
    "\n",
    "#     # Form extraction_labels Todo: rename and use action_indicies instead\n",
    "#     extraction_labels = torch.zeros(batch_state.shape[:2])\n",
    "#     extraction_labels[torch.arange(batch_state.shape[0]), action_idx] = 1\n",
    "\n",
    "#     # index of sentence to extract\n",
    "#     ext_sent = batched_index_select(batch_state, 1, action_idx)\n",
    "\n",
    "#     # Collect\n",
    "#     action_dists.append(action_dist)\n",
    "#     ext_sents.append(ext_sent)\n",
    "#     action_indicies.append(action_idx)\n",
    "\n",
    "#     # Track number of sentences extracted from article\n",
    "#     n_ext_sents = n_ext_sents + 1\n",
    "\n",
    "#     # Check to see if should stop extracting sentences\n",
    "#     is_stop_action = is_stop_action | (action_idx >= stop_action_idx)\n",
    "#     stop_action_list.append(is_stop_action)\n",
    "#     all_samples_stop = torch.sum(is_stop_action) >= batch_size\n",
    "#     is_long_enough = n_ext_sents >= max_n_ext_sents\n",
    "#     if all_samples_stop or is_long_enough:\n",
    "#         break\n",
    "    break\n",
    "# action_indicies = torch.stack(action_indicies).T.squeeze(1)\n",
    "# n_ext_sents = (~torch.stack(stop_action_list).squeeze(1).T).sum(dim=1)\n",
    "# ext_sents = torch.stack(ext_sents).transpose(0, 1).squeeze()"
   ]
  },
  {
   "cell_type": "markdown",
   "metadata": {},
   "source": [
    "## Abstractor"
   ]
  },
  {
   "cell_type": "code",
   "execution_count": null,
   "metadata": {},
   "outputs": [],
   "source": [
    "# Load data:\n",
    "abstractor_model = AbstractorModelRNN(bert_tokenizer, bert_model)\n",
    "abstractor_model_path = \"results/models/abstractor.pt\"\n",
    "abstractor_model.load_state_dict(torch.load(abstractor_model_path))"
   ]
  },
  {
   "cell_type": "code",
   "execution_count": null,
   "metadata": {},
   "outputs": [],
   "source": [
    "source_documents, target_summaries = get_abstractor_training_batch(data, 1)\n",
    "\n",
    "# Obtain embeddings\n",
    "source_document_embeddings, source_mask, source_tokens = obtain_word_embeddings(\n",
    "    abstractor_model.bert_model, abstractor_model.bert_tokenizer, source_documents, static_embeddings=False\n",
    ")\n",
    "target_summary_embeddings, target_mask, target_tokens = obtain_word_embeddings(\n",
    "    abstractor_model.bert_model, abstractor_model.bert_tokenizer, target_summaries, static_embeddings=True\n",
    ")\n",
    "\n",
    "print(source_documents)\n",
    "print()\n",
    "print(target_summaries)"
   ]
  },
  {
   "cell_type": "code",
   "execution_count": null,
   "metadata": {},
   "outputs": [],
   "source": [
    "# Obtain extraction probability for each word in vocabulary\n",
    "extraction_probabilities, teacher_forcing = abstractor_model(\n",
    "    source_document_embeddings,\n",
    "    target_summary_embeddings,\n",
    "    teacher_forcing_pct=0\n",
    ")  # (batch_size, n_target_words, vocab_size)\n",
    "\n",
    "vals, predicted_idx = torch.topk((extraction_probabilities), k=1, dim=2)\n",
    "\n",
    "for x in [abstractor_model.bert_tokenizer.convert_ids_to_tokens(p) for p in predicted_idx.squeeze().tolist()]:\n",
    "    print(f\"{x}\")\n",
    "    print(\"\")\n",
    "    \n",
    "print(\"------------\")\n",
    "\n",
    "\n",
    "# Obtain extraction probability for each word in vocabulary\n",
    "extraction_probabilities, teacher_forcing = abstractor_model(\n",
    "    source_document_embeddings,\n",
    "    target_summary_embeddings,\n",
    "    teacher_forcing_pct=1\n",
    ")  # (batch_size, n_target_words, vocab_size)\n",
    "\n",
    "vals, predicted_idx = torch.topk((extraction_probabilities), k=1, dim=2)\n",
    "\n",
    "for x in [abstractor_model.bert_tokenizer.convert_ids_to_tokens(p) for p in predicted_idx.squeeze().tolist()]:\n",
    "    print(f\"{x}\")\n",
    "    print(\"\")"
   ]
  },
  {
   "cell_type": "markdown",
   "metadata": {},
   "source": [
    "## Reinforcement Learning"
   ]
  },
  {
   "cell_type": "code",
   "execution_count": null,
   "metadata": {},
   "outputs": [],
   "source": [
    "rl_model = RLModel(extractor_model, abstractor_model)\n",
    "rl_model.load_state_dict(torch.load(\"results/models/rl.pt\"))"
   ]
  },
  {
   "cell_type": "code",
   "execution_count": null,
   "metadata": {},
   "outputs": [],
   "source": [
    "source_documents, target_summaries = get_rl_training_batch(data, batch_size=1)\n",
    "\n",
    "# Obtain embeddings\n",
    "source_sentence_embeddings, source_mask = obtain_sentence_embeddings(\n",
    "    rl_model.extractor_model.bert_model,\n",
    "    rl_model.extractor_model.bert_tokenizer,\n",
    "    source_documents\n",
    ")\n",
    "stop_action_index = source_sentence_embeddings.shape[1]\n",
    "target_summary_embeddings, target_mask, target_tokens = obtain_word_embeddings(\n",
    "    rl_model.abstractor_model.bert_model,\n",
    "    rl_model.abstractor_model.bert_tokenizer,\n",
    "    target_summaries,\n",
    "    static_embeddings=True\n",
    ")\n",
    "\n",
    "# Run trajectory\n",
    "actions, log_probs, entropys, values, n_ext_sents = rl_model.sample_actions(\n",
    "    source_sentence_embeddings,\n",
    "    source_mask\n",
    ")\n",
    "\n",
    "# Obtain abstracted sentence from abstractor\n",
    "predicted_tokens, word_probabilities = rl_model.create_abstracted_sentences(\n",
    "    actions,\n",
    "    source_documents,\n",
    "    n_ext_sents=n_ext_sents,\n",
    "    teacher_forcing_pct=0,\n",
    "    target_summary_embeddings=target_summary_embeddings\n",
    ")\n",
    "\n",
    "# Look at extractions\n",
    "for art_idx, doc_sentences in enumerate(actions):\n",
    "    for sent_idx in doc_sentences[:-1]:\n",
    "        print(source_documents[art_idx][sent_idx])\n",
    "        print()\n",
    "    print(\"\\n\\n-------\\n\\n\")\n",
    "    \n",
    "# Look at abstractions\n",
    "for predicted_abstraction in predicted_tokens:\n",
    "    solution = list()\n",
    "    for token in predicted_abstraction:\n",
    "        solution.append(rl_model.abstractor_model.bert_tokenizer.ids_to_tokens[int(token)])\n",
    "    print(\" \".join(solution))\n",
    "    print(\"\\n\\n\")\n",
    "    \n",
    "print(\"-------\\n\\n\")\n",
    "target_summaries"
   ]
  },
  {
   "cell_type": "markdown",
   "metadata": {},
   "source": [
    "## Scratch"
   ]
  },
  {
   "cell_type": "code",
   "execution_count": null,
   "metadata": {
    "scrolled": true
   },
   "outputs": [],
   "source": [
    "from extractor.train import convert_training_dict\n",
    "from bert.utils import obtain_sentence_embeddings\n",
    "from data.utils import load_training_dictionaries, create_training_dictionaries\n",
    "\n",
    "create_training_dictionaries(output_data_path='data/validation_data/', input_file_path='data/validation_data/raw/')"
   ]
  },
  {
   "cell_type": "code",
   "execution_count": null,
   "metadata": {},
   "outputs": [],
   "source": [
    "training_dictionaries = load_training_dictionaries(input_file=\"data/validation_data/data_dictionaries.pkl\")\n",
    "documents, extraction_labels = convert_training_dict(training_dictionaries)\n",
    "\n",
    "obtain_sentence_embeddings(\n",
    "    bert_model, \n",
    "    bert_tokenizer, \n",
    "    documents, \n",
    "    data_dir='data/extractor_data/validation_embeddings/{}', \n",
    "    load_old=False\n",
    ")"
   ]
  },
  {
   "cell_type": "code",
   "execution_count": null,
   "metadata": {},
   "outputs": [],
   "source": [
    "a = torch.tensor([[1, 2, 3, 4], [4,5,6,7]]).float()\n",
    "b = torch.nn.utils.rnn.pack_padded_sequence(\n",
    "    a,\n",
    "    lengths=[2, 4],\n",
    "    batch_first=True,\n",
    "    enforce_sorted=False\n",
    ")\n",
    "\n",
    "softmax = torch.nn.Softmax(dim=0)\n",
    "\n",
    "softmax(b)"
   ]
  },
  {
   "cell_type": "code",
   "execution_count": null,
   "metadata": {},
   "outputs": [],
   "source": [
    "mask1.unsqueeze(1).shape"
   ]
  },
  {
   "cell_type": "code",
   "execution_count": null,
   "metadata": {},
   "outputs": [],
   "source": [
    "np.exp(0)"
   ]
  },
  {
   "cell_type": "code",
   "execution_count": 31,
   "metadata": {},
   "outputs": [],
   "source": [
    "a = np.array([\n",
    "    [1, 2, 4],\n",
    "    [4, 7, 7]\n",
    "])"
   ]
  },
  {
   "cell_type": "code",
   "execution_count": 35,
   "metadata": {},
   "outputs": [],
   "source": [
    "class UserStandardizer:\n",
    "    \"\"\"Implements standardization in a unstateful way.\"\"\"\n",
    "\n",
    "    def __init__(self, axis=1):\n",
    "        self.axis = axis\n",
    "        if axis == 0:\n",
    "            self.shape = (1, -1)\n",
    "        else:\n",
    "            self.shape = (-1, 1)\n",
    "\n",
    "    def transform(self, input_data: np.ndarray) -> np.ndarray:\n",
    "        mean = np.mean(input_data, axis=self.axis).reshape(*self.shape)\n",
    "        std = np.std(input_data, axis=self.axis, ddof=1).reshape(*self.shape)\n",
    "        print(mean)\n",
    "        print(std)\n",
    "\n",
    "        return (input_data - mean) / std"
   ]
  },
  {
   "cell_type": "code",
   "execution_count": 36,
   "metadata": {},
   "outputs": [],
   "source": [
    "std = UserStandardizer(axis=1)"
   ]
  },
  {
   "cell_type": "code",
   "execution_count": 37,
   "metadata": {},
   "outputs": [
    {
     "name": "stdout",
     "output_type": "stream",
     "text": [
      "[[2.33333333]\n",
      " [6.        ]]\n",
      "[[1.52752523]\n",
      " [1.73205081]]\n"
     ]
    },
    {
     "data": {
      "text/plain": [
       "array([[-0.87287156, -0.21821789,  1.09108945],\n",
       "       [-1.15470054,  0.57735027,  0.57735027]])"
      ]
     },
     "execution_count": 37,
     "metadata": {},
     "output_type": "execute_result"
    }
   ],
   "source": [
    "std.transform(a)"
   ]
  },
  {
   "cell_type": "code",
   "execution_count": null,
   "metadata": {},
   "outputs": [],
   "source": []
  }
 ],
 "metadata": {
  "kernelspec": {
   "display_name": "summarization-project",
   "language": "python",
   "name": "summarization-project"
  },
  "language_info": {
   "codemirror_mode": {
    "name": "ipython",
    "version": 3
   },
   "file_extension": ".py",
   "mimetype": "text/x-python",
   "name": "python",
   "nbconvert_exporter": "python",
   "pygments_lexer": "ipython3",
   "version": "3.7.7"
  }
 },
 "nbformat": 4,
 "nbformat_minor": 4
}
