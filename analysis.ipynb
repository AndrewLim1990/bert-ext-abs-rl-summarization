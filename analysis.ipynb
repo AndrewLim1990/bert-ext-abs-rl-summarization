{
 "cells": [
  {
   "cell_type": "code",
   "execution_count": 203,
   "metadata": {},
   "outputs": [],
   "source": [
    "import pickle"
   ]
  },
  {
   "cell_type": "code",
   "execution_count": 210,
   "metadata": {},
   "outputs": [
    {
     "data": {
      "text/plain": [
       "['price on its head : the helmeted hornbill has become a target for poachers due to the popularity of its ivory .',\n",
       " 'it is one of the world ’s strangest birds , with a huge domed bill , a 6ft wingspan and a call that sounds like maniacal laughter as it echoes across the borneo rainforest .',\n",
       " 'but the helmeted hornbill is being driven towards extinction – by a surge in the black - market demand for its ivory in china .',\n",
       " 'the bird – dubbed ‘ the farmer of the rainforest ’ for its vital seed - spreading role – has become the latest victim of organised wildlife crime , according to a report to be published this week by the environmental investigation agency ( eia ) .']"
      ]
     },
     "execution_count": 210,
     "metadata": {},
     "output_type": "execute_result"
    }
   ],
   "source": []
  },
  {
   "cell_type": "code",
   "execution_count": 211,
   "metadata": {},
   "outputs": [],
   "source": [
    "document = ['price on its head : the helmeted hornbill has become a target for poachers due to the popularity of its ivory .',\n",
    " 'it is one of the world ’s strangest birds , with a huge domed bill , a 6ft wingspan and a call that sounds like maniacal laughter as it echoes across the borneo rainforest .',\n",
    " 'but the helmeted hornbill is being driven towards extinction – by a surge in the black - market demand for its ivory in china .',\n",
    " 'the bird – dubbed ‘ the farmer of the rainforest ’ for its vital seed - spreading role – has become the latest victim of organised wildlife crime , according to a report to be published this week by the environmental investigation agency ( eia ) .',\n",
    " 'its ivory is now worth three times more than that of elephants , and illegal poaching is spiralling out of control .',\n",
    " 'hornbill expert yoki hadiprakarsa warned : ‘ if no one pays attention , this bird is going to become extinct . ’',\n",
    " 'the illegal trade is being fuelled by the desires of china ’s wealthy middle classes for carved ivory items . with ‘ white ’ elephant ivory and rhino horn becoming more scarce , the eia found traffickers were dealing instead in ‘ red ’ ivory from a hornbill casque .',\n",
    " 'this now sells for as much as £ 4,000 a kilo – three times the price of elephant ivory .',\n",
    " 'there are no reliable estimates of the impact of poaching on populations across the hornbills ’ historic range of borneo , sumatra and the malaysian peninsula , but in one region alone , the kalimantan , an estimated 6,000 birds are killed every year .',\n",
    " \"mr hadiprakarsa , director of the indonesian hornbill conservation society , said : ' a few years ago helmeted hornbills were common in the west kalimantan , but on my last visit i did n't see any and local villagers said they had n't either .\",\n",
    " \"' hunters are now pushing into the remotest areas of the forest . ’\",\n",
    " 'the illegal trade in ivory from the birds is being fuelled by the desires of china ’s wealthy middle classes for carved ivory items .',\n",
    " 'chinese visitors look at souvenirs made from ivory at a market in angola . the ivory , which comes from helmeted hornbills , is three times the price of that of an elephant .',\n",
    " 'poachers , who shoot then decapitate the birds , often return from expeditions with as many as 20 hornbill heads .',\n",
    " 'these are then sold for up to £ 300 each to middle men or direct to smugglers exporting to hong kong and china .',\n",
    " 'eia campaigner debbie banks said : ‘ what is sickening is this trade has nothing to do with tradition or medicine – it ’s purely about demand for luxury vanity products . ’']\n",
    "\n",
    "sampled_documents = [document, document[0:4]]\n"
   ]
  },
  {
   "cell_type": "code",
   "execution_count": 212,
   "metadata": {},
   "outputs": [],
   "source": [
    "summary = ['the helmeted hornbill of the borneo rainforest is being driven to extinction .',\n",
    " 'it is due to a surge in the black - market demand for its ivory in china .',\n",
    " 'the ivory is now worth three times more than that of elephants .',\n",
    " 'report says the bird is the latest victim of organised wildlife crime .']\n",
    "\n",
    "sampled_summaries = [summary, summary]"
   ]
  },
  {
   "cell_type": "code",
   "execution_count": 213,
   "metadata": {},
   "outputs": [],
   "source": [
    "pickle.dump(sampled_documents, open(\"data/sampled_documents.pkl\", \"wb\"))\n",
    "pickle.dump(sampled_summaries, open(\"data/sampled_summaries.pkl\", \"wb\"))"
   ]
  },
  {
   "cell_type": "code",
   "execution_count": 226,
   "metadata": {},
   "outputs": [
    {
     "data": {
      "text/plain": [
       "tensor([[[1, 2, 3],\n",
       "         [4, 5, 6]],\n",
       "\n",
       "        [[4, 5, 6],\n",
       "         [7, 8, 9]],\n",
       "\n",
       "        [[4, 5, 6],\n",
       "         [0, 0, 0]]])"
      ]
     },
     "execution_count": 226,
     "metadata": {},
     "output_type": "execute_result"
    }
   ],
   "source": [
    "from torch.nn.utils.rnn import pad_sequence\n",
    "\n",
    "a = torch.tensor([[1, 2, 3], [4, 5, 6]])\n",
    "b = torch.tensor([[4, 5, 6], [7, 8, 9]])\n",
    "c = torch.tensor([[4, 5, 6]])\n",
    "\n",
    "pad_sequence([a, b, c], batch_first=True)"
   ]
  },
  {
   "cell_type": "code",
   "execution_count": 227,
   "metadata": {},
   "outputs": [
    {
     "data": {
      "text/plain": [
       "16"
      ]
     },
     "execution_count": 227,
     "metadata": {},
     "output_type": "execute_result"
    }
   ],
   "source": [
    "len(document)"
   ]
  }
 ],
 "metadata": {
  "kernelspec": {
   "display_name": "summarization-project",
   "language": "python",
   "name": "summarization-project"
  },
  "language_info": {
   "codemirror_mode": {
    "name": "ipython",
    "version": 3
   },
   "file_extension": ".py",
   "mimetype": "text/x-python",
   "name": "python",
   "nbconvert_exporter": "python",
   "pygments_lexer": "ipython3",
   "version": "3.7.7"
  }
 },
 "nbformat": 4,
 "nbformat_minor": 4
}
