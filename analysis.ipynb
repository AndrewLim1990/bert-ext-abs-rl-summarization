{
 "cells": [
  {
   "cell_type": "code",
   "execution_count": 130,
   "metadata": {},
   "outputs": [],
   "source": [
    "from pytorch_transformers import BertModel\n",
    "from pytorch_transformers import BertTokenizer\n",
    "from sentence_transformers import SentenceTransformer\n",
    "\n",
    "import numpy as np\n",
    "import torch\n",
    "\n",
    "model_siamese = SentenceTransformer('bert-base-nli-mean-tokens')\n",
    "model = BertModel.from_pretrained('bert-base-uncased')\n",
    "tokenizer = BertTokenizer.from_pretrained('bert-base-uncased')"
   ]
  },
  {
   "cell_type": "code",
   "execution_count": 170,
   "metadata": {},
   "outputs": [],
   "source": [
    "def obtain_sentence_embedding(model, tokenizer, input_sentence):\n",
    "    input_sentence = torch.tensor(\n",
    "        tokenizer.encode(f\"[CLS] {input_sentence}\")\n",
    "    ).unsqueeze(0)\n",
    "    last_hidden_state, pooler_output = model(input_sentence)\n",
    "    last_hidden_state = last_hidden_state.squeeze()\n",
    "    cls_embedding = last_hidden_state[0].view(1, -1)\n",
    "\n",
    "    return cls_embedding\n",
    "\n",
    "\n",
    "def obtain_sentence_embeddings(model, tokenizer, input_sentences):\n",
    "    cls_embeddings = torch.cat([\n",
    "        obtain_sentence_embedding(model, tokenizer, s) for s in input_sentences\n",
    "    ])\n",
    "\n",
    "    return cls_embeddings\n",
    "\n",
    "\n",
    "def obtain_sentence_embeddings_siamese(model, input_sentences):\n",
    "    encoded_sentences = np.stack(model.encode(sentences))\n",
    "    encoded_sentences = torch.tensor(encoded_sentences)\n",
    "\n",
    "    return encoded_sentences\n",
    "\n",
    "\n",
    "def euclidean_distance(vector_1, vector_2):\n",
    "    dist = torch.sqrt(torch.sum(vector_1 - vector_2)**2)\n",
    "    return dist\n"
   ]
  },
  {
   "cell_type": "code",
   "execution_count": 169,
   "metadata": {},
   "outputs": [
    {
     "name": "stdout",
     "output_type": "stream",
     "text": [
      "tensor(0.0022, grad_fn=<SqrtBackward>)\n",
      "tensor(0.8775, grad_fn=<SqrtBackward>)\n",
      "tensor(0.8285, grad_fn=<SqrtBackward>)\n",
      "tensor(0.0490, grad_fn=<SqrtBackward>)\n"
     ]
    }
   ],
   "source": [
    "input_sentences = [\n",
    "    'hello world my name is bob', \n",
    "    'hello world my name is doug',\n",
    "    'i am jiu-jitsu god amongst men',\n",
    "    'i am a jiu-jitsu god amongst men'\n",
    "]\n",
    "\n",
    "encoded_sentences = obtain_sentence_embeddings(model, tokenizer, input_sentences)\n",
    "\n",
    "print(euclidean_distance(encoded_sentences[0], encoded_sentences[1]))\n",
    "print(euclidean_distance(encoded_sentences[0], encoded_sentences[2]))\n",
    "print(euclidean_distance(encoded_sentences[0], encoded_sentences[3]))\n",
    "print(euclidean_distance(encoded_sentences[2], encoded_sentences[3]))"
   ]
  }
 ],
 "metadata": {
  "kernelspec": {
   "display_name": "summarization-project",
   "language": "python",
   "name": "summarization-project"
  },
  "language_info": {
   "codemirror_mode": {
    "name": "ipython",
    "version": 3
   },
   "file_extension": ".py",
   "mimetype": "text/x-python",
   "name": "python",
   "nbconvert_exporter": "python",
   "pygments_lexer": "ipython3",
   "version": "3.7.7"
  }
 },
 "nbformat": 4,
 "nbformat_minor": 4
}
