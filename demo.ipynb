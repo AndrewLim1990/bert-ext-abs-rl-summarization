{
 "cells": [
  {
   "cell_type": "markdown",
   "metadata": {},
   "source": [
    "# Demo"
   ]
  },
  {
   "cell_type": "markdown",
   "metadata": {},
   "source": [
    "The purpose of this notebook is to provide a concrete example of how the approach described [here]() can be implemented. "
   ]
  },
  {
   "cell_type": "markdown",
   "metadata": {},
   "source": [
    "## Preamble"
   ]
  },
  {
   "cell_type": "code",
   "execution_count": 1,
   "metadata": {},
   "outputs": [],
   "source": [
    "import matplotlib.pyplot as plt\n",
    "import numpy as np\n",
    "import pickle\n",
    "import torch\n",
    "\n",
    "from bert.utils import obtain_sentence_embeddings\n",
    "from extractor.train import convert_training_dict\n",
    "from pytorch_transformers import BertModel\n",
    "from pytorch_transformers import BertTokenizer\n",
    "from torch import nn\n",
    "\n",
    "BERT_OUTPUT_SIZE = 768\n",
    "BI_LSTM_OUTPUT_SIZE = 8\n",
    "START_OF_SENTENCE_TOKEN = \"[CLS]\"\n",
    "END_OF_SENTENCE_TOKEN = \"[SEP]\""
   ]
  },
  {
   "cell_type": "markdown",
   "metadata": {},
   "source": [
    "## Helper Functions"
   ]
  },
  {
   "cell_type": "code",
   "execution_count": 2,
   "metadata": {},
   "outputs": [],
   "source": [
    "nll_loss = torch.nn.NLLLoss()\n",
    "\n",
    "def freeze_weights(model):\n",
    "    for param in model.parameters():\n",
    "        param.requires_grad = False\n",
    "            \n",
    "def obtain_sentence_embedding(model, tokenizer, input_sentence):\n",
    "    input_sentence = torch.tensor(\n",
    "        tokenizer.encode(f\"{START_OF_SENTENCE_TOKEN} {input_sentence} {END_OF_SENTENCE_TOKEN}\")\n",
    "    ).unsqueeze(0)\n",
    "    last_hidden_state, pooler_output = model(input_sentence)\n",
    "    last_hidden_state = last_hidden_state.squeeze()\n",
    "    cls_embedding = last_hidden_state[0].view(1, -1)\n",
    "\n",
    "    return cls_embedding\n",
    "\n",
    "def cross_entropy_loss(prob, target):\n",
    "    log_prob = torch.log(prob)\n",
    "    loss = nll_loss(log_prob, target)\n",
    "    return loss"
   ]
  },
  {
   "cell_type": "markdown",
   "metadata": {},
   "source": [
    "## Load Data"
   ]
  },
  {
   "cell_type": "markdown",
   "metadata": {},
   "source": [
    "Obtains a sample document to train on"
   ]
  },
  {
   "cell_type": "code",
   "execution_count": 3,
   "metadata": {},
   "outputs": [],
   "source": [
    "# Obtain pre-trained model\n",
    "bert_tokenizer = BertTokenizer.from_pretrained('bert-base-uncased')\n",
    "bert_model = BertModel.from_pretrained('bert-base-uncased')\n",
    "freeze_weights(bert_model)"
   ]
  },
  {
   "cell_type": "code",
   "execution_count": 4,
   "metadata": {
    "scrolled": true
   },
   "outputs": [
    {
     "name": "stdout",
     "output_type": "stream",
     "text": [
      "SAMPLE ARTICLE: \n",
      "( cnn ) share , and your gift will be multiplied . that may sound like an esoteric adage , but when zully broussard selflessly decided to give one of her kidneys to a stranger , her generosity paired up with big data . it resulted in six patients receiving transplants . that surprised and wowed her . \" i thought i was going to help this one person who i do n't know , but the fact that so many people can have a life extension , that 's pretty big , \" broussard told cnn affiliate kgo . she may feel guided in her generosity by a higher power . \" thanks for all the support and prayers , \" a comment on a facebook page in her name read . \" i know this entire journey is much bigger than all of us . i also know i 'm just the messenger . \" cnn can not verify the authenticity of the page . but the power that multiplied broussard 's gift was data processing of genetic profiles from donor - recipient pairs . it works on a simple swapping principle but takes it to a much higher level , according to california pacific medical center in san francisco . so high , that it is taking five surgeons , a covey of physician assistants , nurses and anesthesiologists , and more than 40 support staff to perform surgeries on 12 people . they are extracting six kidneys from donors and implanting them into six recipients . \" the ages of the donors and recipients range from 26 to 70 and include three parent and child pairs , one sibling pair and one brother and sister - in - law pair , \" the medical center said in a statement . the chain of surgeries is to be wrapped up friday . in late march , the medical center is planning to hold a reception for all 12 patients . here 's how the super swap works , according to california pacific medical center . say , your brother needs a kidney to save his life , or at least get off of dialysis , and you 're willing to give him one of yours . but then it turns out that your kidney is not a match for him , and it 's certain his body would reject it . your brother can then get on a years - long waiting list for a kidney coming from an organ donor who died . maybe that will work out -- or not , and time could run out for him . alternatively , you and your brother could look for another recipient - living donor couple like yourselves -- say , two more siblings , where the donor 's kidney is n't suited for his sister , the recipient . but maybe your kidney is a match for his sister , and his kidney is a match for your brother . so , you 'd do a swap . that 's called a paired donation . it 's a bit of a surgical square dance , where four people cross over partners temporarily and everybody goes home smiling . but instead of a square dance , broussard 's generous move set off a chain reaction , like dominoes falling . her kidney , which was removed thursday , went to a recipient , who was paired with a donor . that donor 's kidney went to the next recipient , who was also paired with a donor , and so on . on friday , the last donor will give a kidney to someone who has been biding time on one of those deceased donor lists to complete the chain . such long - chain transplanting is rare . it 's been done before , california pacific medical center said in a statement , but matching up the people in the chain has been laborious and taken a long time . that changed when a computer programmer named david jacobs received a kidney transplant . he had been waiting on a deceased donor list , when a live donor came along -- someone nice enough to give away a kidney to a stranger . jacobs paid it forward with his programming skills , creating matchgrid , a program that genetically matches up donor pairs or chains quickly . \" when we did a five - way swap a few years ago , which was one of the largest , it took about three to four months . we did this in about three weeks , \" jacobs said . but this chain would n't have worked so quickly without broussard 's generosity -- or may not have worked at all . \" the significance of the altruistic donor is that it opens up possibilities for pairing compatible donors and recipients , \" said dr. steven katznelson . \" where there had been only three or four options , with the inclusion of the altruistic donor , we had 140 options to consider for matching donors and recipients . \" and that 's divine , broussard 's friend shirley williams wrote in a comment her on broussard 's facebook page . \" you are a true angel my friend . \"\n",
      " \n",
      "EXTRACTION SENTENCES (LABELS): \n",
      "that may sound like an esoteric adage , but when zully broussard selflessly decided to give one of her kidneys to a stranger , her generosity paired up with big data . it resulted in six patients receiving transplants . that changed when a computer programmer named david jacobs received a kidney transplant . he had been waiting on a deceased donor list , when a live donor came along -- someone nice enough to give away a kidney to a stranger .\n"
     ]
    }
   ],
   "source": [
    "# Load articles and labels\n",
    "data = pickle.load(open('data/development_data/training_dictionaries.pkl', 'rb'))\n",
    "\n",
    "# Get a sample document\n",
    "document = data[0]['document']\n",
    "extraction_label = data[0]['extraction_label']\n",
    "n_ext_sents = extraction_label.sum().int()\n",
    "\n",
    "# Peak\n",
    "print(f\"SAMPLE ARTICLE: \\n{' '.join(document)}\\n \")\n",
    "ext_sents = np.array(document)[extraction_label.bool().numpy()].tolist()\n",
    "print(f\"EXTRACTION SENTENCES (LABELS): \\n{' '.join(ext_sents)}\")"
   ]
  },
  {
   "cell_type": "markdown",
   "metadata": {},
   "source": [
    "## Create Models"
   ]
  },
  {
   "cell_type": "code",
   "execution_count": 5,
   "metadata": {},
   "outputs": [],
   "source": [
    "bi_lstm = nn.LSTM(\n",
    "    input_size=BERT_OUTPUT_SIZE,\n",
    "    hidden_size=BI_LSTM_OUTPUT_SIZE,\n",
    "    num_layers=1,\n",
    "    bidirectional=True,\n",
    "    batch_first=True\n",
    ")\n",
    "\n",
    "ptr_lstm = nn.LSTM(\n",
    "    input_size=BI_LSTM_OUTPUT_SIZE * 2,\n",
    "    hidden_size=BI_LSTM_OUTPUT_SIZE * 2,\n",
    "    num_layers=1,\n",
    "    bidirectional=False,\n",
    "    batch_first=True\n",
    ")\n",
    "softmax = torch.nn.Softmax(-1)"
   ]
  },
  {
   "cell_type": "markdown",
   "metadata": {},
   "source": [
    "## Training"
   ]
  },
  {
   "cell_type": "code",
   "execution_count": 6,
   "metadata": {
    "scrolled": true
   },
   "outputs": [
    {
     "name": "stdout",
     "output_type": "stream",
     "text": [
      "Loss: 3.5412235260009766\n"
     ]
    },
    {
     "data": {
      "image/png": "[encoded data removed]",
      "text/plain": [
       "<Figure size 432x288 with 1 Axes>"
      ]
     },
     "metadata": {
      "needs_background": "light"
     },
     "output_type": "display_data"
    },
    {
     "name": "stdout",
     "output_type": "stream",
     "text": [
      "Loss: 1.2064175605773926\n"
     ]
    },
    {
     "data": {
      "image/png": "[encoded data removed]",
      "text/plain": [
       "<Figure size 432x288 with 1 Axes>"
      ]
     },
     "metadata": {
      "needs_background": "light"
     },
     "output_type": "display_data"
    },
    {
     "name": "stdout",
     "output_type": "stream",
     "text": [
      "Loss: 0.298395037651062\n"
     ]
    },
    {
     "data": {
      "image/png": "[encoded data removed]",
      "text/plain": [
       "<Figure size 432x288 with 1 Axes>"
      ]
     },
     "metadata": {
      "needs_background": "light"
     },
     "output_type": "display_data"
    },
    {
     "name": "stdout",
     "output_type": "stream",
     "text": [
      "Loss: 0.2227761298418045\n"
     ]
    },
    {
     "data": {
      "image/png": "[encoded data removed]",
      "text/plain": [
       "<Figure size 432x288 with 1 Axes>"
      ]
     },
     "metadata": {
      "needs_background": "light"
     },
     "output_type": "display_data"
    },
    {
     "name": "stdout",
     "output_type": "stream",
     "text": [
      "Loss: 0.11345800757408142\n"
     ]
    },
    {
     "data": {
      "image/png": "[encoded data removed]",
      "text/plain": [
       "<Figure size 432x288 with 1 Axes>"
      ]
     },
     "metadata": {
      "needs_background": "light"
     },
     "output_type": "display_data"
    },
    {
     "name": "stdout",
     "output_type": "stream",
     "text": [
      "Loss: 0.037269704043865204\n"
     ]
    },
    {
     "data": {
      "image/png": "[encoded data removed]",
      "text/plain": [
       "<Figure size 432x288 with 1 Axes>"
      ]
     },
     "metadata": {
      "needs_background": "light"
     },
     "output_type": "display_data"
    },
    {
     "data": {
      "image/png": "[encoded data removed]",
      "text/plain": [
       "<Figure size 432x288 with 1 Axes>"
      ]
     },
     "metadata": {
      "needs_background": "light"
     },
     "output_type": "display_data"
    }
   ],
   "source": [
    "# Obtain bert sentence embeddings\n",
    "bert_sent_embeddings = [obtain_sentence_embedding(bert_model, bert_tokenizer, sentence) for sentence in document]\n",
    "bert_sent_embeddings = torch.cat(bert_sent_embeddings).unsqueeze(0)\n",
    "\n",
    "# Randomly initialize initial input embedding:\n",
    "rand_floats = torch.FloatTensor(1, BI_LSTM_OUTPUT_SIZE * 2).uniform_(-1, 1) * 1e-1\n",
    "init_sent_embedding = torch.nn.Parameter(rand_floats, requires_grad=True)\n",
    "\n",
    "# Hyper parameters\n",
    "learning_rate = 1e-3\n",
    "n_training_iters = 300\n",
    "model_params = list(bi_lstm.parameters()) + list(ptr_lstm.parameters())\n",
    "optimizer = torch.optim.Adam(model_params, lr=learning_rate)\n",
    "\n",
    "# Training iterations\n",
    "for iteration_idx in range(n_training_iters):\n",
    "    bi_lstm_hidden_state, __ = bi_lstm(bert_sent_embeddings)\n",
    "    input_embedding = init_sent_embedding.unsqueeze(0) \n",
    "    init_hidden_cell_state = None\n",
    "    extraction_probs = list()\n",
    "\n",
    "    for i in range(n_ext_sents):\n",
    "        # Obtain context\n",
    "        ptr_hidden_state, init_hidden_cell_state = ptr_lstm(input_embedding, init_hidden_cell_state)\n",
    "        attn_values = torch.bmm(ptr_hidden_state, bi_lstm_hidden_state.transpose(1, 2))\n",
    "        self_attn_weights = softmax(attn_values)\n",
    "        context = torch.bmm(self_attn_weights, bi_lstm_hidden_state)\n",
    "\n",
    "        # Obtain extraction probability\n",
    "        attn_values = torch.bmm(context, bi_lstm_hidden_state.transpose(1, 2))\n",
    "        extraction_prob = softmax(attn_values)\n",
    "        extraction_probs.append(extraction_prob)\n",
    "\n",
    "        # Obtain next input embedding\n",
    "        ext_sent_idx = torch.argmax(extraction_prob)\n",
    "        input_embedding = bi_lstm_hidden_state[0:1, ext_sent_idx:ext_sent_idx+1, :]\n",
    "\n",
    "    # Calculate loss\n",
    "    y_hat = torch.cat(extraction_probs).squeeze()\n",
    "    y = torch.where(extraction_label)[0]\n",
    "    loss = cross_entropy_loss(prob=y_hat, target=y)\n",
    "    if iteration_idx % 50 == 0:\n",
    "        print(f'Loss: {loss}')\n",
    "        plt.bar(range(y_hat[0].shape[0]), y_hat[0].data.numpy(), alpha=0.25)\n",
    "        plt.bar(range(y_hat[1].shape[0]), y_hat[1].data.numpy(), alpha=0.25)\n",
    "        plt.title('Extraction Probabilities')\n",
    "        plt.xlabel('Sentence Index')\n",
    "        plt.ylabel('Extraction Probability')\n",
    "        plt.show()\n",
    "\n",
    "    # Update model\n",
    "    optimizer.zero_grad()\n",
    "    loss.backward()\n",
    "    optimizer.step()\n",
    "    \n",
    "\n",
    "plt.bar(range(y_hat[0].shape[0]), y_hat[0].data.numpy(), alpha=0.25)\n",
    "plt.bar(range(y_hat[1].shape[0]), y_hat[1].data.numpy(), alpha=0.25)\n",
    "plt.title('Extraction Probabilities')\n",
    "plt.xlabel('Sentence Index')\n",
    "plt.ylabel('Extraction Probability')\n",
    "plt.show()"
   ]
  },
  {
   "cell_type": "code",
   "execution_count": 13,
   "metadata": {},
   "outputs": [
    {
     "data": {
      "text/plain": [
       "torch.Size([1, 1, 29])"
      ]
     },
     "execution_count": 13,
     "metadata": {},
     "output_type": "execute_result"
    }
   ],
   "source": [
    "self_attn_weights.shape"
   ]
  },
  {
   "cell_type": "code",
   "execution_count": 7,
   "metadata": {},
   "outputs": [
    {
     "name": "stdout",
     "output_type": "stream",
     "text": [
      "Target indicies: tensor([ 1, 22])\n",
      "Extracted indicies: tensor([ 1, 22])\n",
      "Extraction probabilities: tensor([0.9897, 0.9983], grad_fn=<DiagBackward>)\n"
     ]
    }
   ],
   "source": [
    "print(f'Target indicies: {y}')\n",
    "print(f'Extracted indicies: {torch.argmax(y_hat, -1)}')\n",
    "print(f'Extraction probabilities: {y_hat[:, extraction_label.bool()].diag()}')"
   ]
  },
  {
   "cell_type": "markdown",
   "metadata": {},
   "source": [
    "The above has been over-trained but demonstrates how the extraction approach works"
   ]
  }
 ],
 "metadata": {
  "kernelspec": {
   "display_name": "summarization-project",
   "language": "python",
   "name": "summarization-project"
  },
  "language_info": {
   "codemirror_mode": {
    "name": "ipython",
    "version": 3
   },
   "file_extension": ".py",
   "mimetype": "text/x-python",
   "name": "python",
   "nbconvert_exporter": "python",
   "pygments_lexer": "ipython3",
   "version": "3.7.7"
  }
 },
 "nbformat": 4,
 "nbformat_minor": 4
}
