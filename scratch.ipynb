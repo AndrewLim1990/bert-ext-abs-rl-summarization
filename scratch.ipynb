{
 "cells": [
  {
   "cell_type": "code",
   "execution_count": 1,
   "metadata": {},
   "outputs": [],
   "source": [
    "from bert.utils import obtain_sentence_embeddings\n",
    "from data.utils import load_training_dictionaries\n",
    "from extractor.utils import ExtractorModel\n",
    "from extractor.train import get_training_batch\n",
    "from pytorch_transformers import BertModel\n",
    "from pytorch_transformers import BertTokenizer\n",
    "\n",
    "import torch\n",
    "import numpy as np"
   ]
  },
  {
   "cell_type": "code",
   "execution_count": 2,
   "metadata": {},
   "outputs": [
    {
     "data": {
      "text/plain": [
       "<All keys matched successfully>"
      ]
     },
     "execution_count": 2,
     "metadata": {},
     "output_type": "execute_result"
    }
   ],
   "source": [
    "# Load data:\n",
    "model = ExtractorModel()\n",
    "model_path = \"results/models/extractor.pt\"\n",
    "model.load_state_dict(torch.load(model_path))"
   ]
  },
  {
   "cell_type": "code",
   "execution_count": 3,
   "metadata": {},
   "outputs": [],
   "source": [
    "data = load_training_dictionaries()\n",
    "documents, extraction_labels = get_training_batch(data, batch_size=10)"
   ]
  },
  {
   "cell_type": "code",
   "execution_count": 4,
   "metadata": {},
   "outputs": [],
   "source": [
    "sentence_embeddings, mask = obtain_sentence_embeddings(model.bert_model, model.bert_tokenizer, documents)"
   ]
  },
  {
   "cell_type": "code",
   "execution_count": 5,
   "metadata": {},
   "outputs": [
    {
     "data": {
      "text/plain": [
       "tensor([[5.9915e-04, 9.9328e-01, 5.3232e-04, 5.4050e-04, 5.6455e-04, 9.9860e-01,\n",
       "         9.9871e-01, 5.4179e-04, 5.1287e-04, 6.5203e-04, 7.0618e-04, 5.4396e-04,\n",
       "         5.4196e-04, 5.9824e-04, 5.6216e-04, 6.2982e-04, 5.6603e-04, 5.6209e-04,\n",
       "         8.3428e-01, 8.3428e-01, 8.3428e-01, 8.3428e-01, 8.3428e-01, 8.3428e-01,\n",
       "         8.3428e-01, 8.3428e-01, 8.3428e-01, 8.3428e-01, 8.3428e-01, 8.3428e-01,\n",
       "         8.3428e-01, 8.3428e-01, 8.3428e-01, 8.3428e-01, 8.3428e-01, 8.3428e-01,\n",
       "         8.3428e-01, 8.3428e-01, 8.3428e-01],\n",
       "        [9.9881e-01, 9.9775e-01, 5.1092e-04, 5.4794e-04, 5.1083e-04, 9.9721e-01,\n",
       "         5.2902e-04, 5.1224e-04, 5.2280e-04, 5.1305e-04, 5.2701e-04, 5.1188e-04,\n",
       "         5.1340e-04, 5.1789e-04, 9.9666e-01, 5.2543e-04, 6.3789e-04, 9.6206e-01,\n",
       "         9.6337e-01, 9.6337e-01, 9.6337e-01, 9.6337e-01, 9.6337e-01, 9.6337e-01,\n",
       "         9.6337e-01, 9.6337e-01, 9.6337e-01, 9.6337e-01, 9.6337e-01, 9.6337e-01,\n",
       "         9.6337e-01, 9.6337e-01, 9.6337e-01, 9.6337e-01, 9.6337e-01, 9.6337e-01,\n",
       "         9.6337e-01, 9.6337e-01, 9.6337e-01],\n",
       "        [5.5258e-04, 9.9866e-01, 9.9580e-01, 5.0953e-04, 5.1146e-04, 5.1648e-04,\n",
       "         5.0980e-04, 5.1652e-04, 5.1517e-04, 5.0976e-04, 5.1306e-04, 5.2250e-04,\n",
       "         5.2462e-04, 8.9484e-01, 9.7278e-01, 9.6649e-01, 9.7023e-01, 9.6722e-01,\n",
       "         9.6901e-01, 9.6901e-01, 9.6901e-01, 9.6901e-01, 9.6901e-01, 9.6901e-01,\n",
       "         9.6901e-01, 9.6901e-01, 9.6901e-01, 9.6901e-01, 9.6901e-01, 9.6901e-01,\n",
       "         9.6901e-01, 9.6901e-01, 9.6901e-01, 9.6901e-01, 9.6901e-01, 9.6901e-01,\n",
       "         9.6901e-01, 9.6901e-01, 9.6901e-01],\n",
       "        [5.3068e-04, 5.0951e-04, 5.0933e-04, 5.2399e-04, 5.1182e-04, 5.1170e-04,\n",
       "         5.1533e-04, 9.9806e-01, 5.1714e-04, 5.1640e-04, 9.9828e-01, 5.5226e-04,\n",
       "         9.9902e-01, 5.1861e-04, 9.6544e-01, 9.6357e-01, 9.6851e-01, 9.5339e-01,\n",
       "         9.6717e-01, 9.6717e-01, 9.6717e-01, 9.6717e-01, 9.6717e-01, 9.6717e-01,\n",
       "         9.6717e-01, 9.6717e-01, 9.6717e-01, 9.6717e-01, 9.6717e-01, 9.6717e-01,\n",
       "         9.6717e-01, 9.6717e-01, 9.6717e-01, 9.6717e-01, 9.6717e-01, 9.6717e-01,\n",
       "         9.6717e-01, 9.6717e-01, 9.6717e-01],\n",
       "        [5.3652e-04, 5.1634e-04, 9.9894e-01, 5.1250e-04, 5.1084e-04, 5.1733e-04,\n",
       "         5.1089e-04, 5.1188e-04, 5.1299e-04, 5.1589e-04, 5.1188e-04, 9.9876e-01,\n",
       "         5.1028e-04, 9.5571e-01, 9.5196e-01, 9.4838e-01, 9.7458e-01, 8.3385e-01,\n",
       "         9.7030e-01, 9.7028e-01, 9.7029e-01, 9.7029e-01, 9.7029e-01, 9.7027e-01,\n",
       "         9.7029e-01, 9.7028e-01, 9.7031e-01, 9.7029e-01, 9.7028e-01, 9.7029e-01,\n",
       "         9.7029e-01, 9.7028e-01, 9.7029e-01, 9.7029e-01, 9.7028e-01, 9.7026e-01,\n",
       "         9.7027e-01, 9.7029e-01, 9.7026e-01],\n",
       "        [9.9823e-01, 5.1594e-04, 5.5103e-04, 5.4190e-04, 5.1472e-04, 5.3969e-04,\n",
       "         5.3138e-04, 5.6243e-04, 5.2163e-04, 5.3032e-04, 5.7799e-04, 5.1908e-04,\n",
       "         5.6070e-04, 5.3348e-04, 5.5916e-04, 5.2772e-04, 9.9809e-01, 5.2216e-04,\n",
       "         9.6951e-01, 9.6935e-01, 9.6942e-01, 9.6945e-01, 9.6943e-01, 9.6933e-01,\n",
       "         9.6942e-01, 9.6941e-01, 9.6960e-01, 9.6942e-01, 9.6938e-01, 9.6942e-01,\n",
       "         9.6943e-01, 9.6938e-01, 9.6944e-01, 9.6943e-01, 9.6941e-01, 9.6924e-01,\n",
       "         9.6926e-01, 9.6943e-01, 9.6925e-01],\n",
       "        [5.4555e-04, 5.2075e-04, 9.9774e-01, 5.2925e-04, 5.2975e-04, 5.1544e-04,\n",
       "         5.1335e-04, 9.9861e-01, 5.1213e-04, 5.1972e-04, 5.1300e-04, 5.0998e-04,\n",
       "         5.1092e-04, 5.1939e-04, 5.2230e-04, 9.6909e-01, 9.7453e-01, 9.6837e-01,\n",
       "         9.7089e-01, 9.6980e-01, 9.7031e-01, 9.7052e-01, 9.7039e-01, 9.6964e-01,\n",
       "         9.7034e-01, 9.7024e-01, 9.7142e-01, 9.7033e-01, 9.7004e-01, 9.7030e-01,\n",
       "         9.7040e-01, 9.7005e-01, 9.7048e-01, 9.7039e-01, 9.7026e-01, 9.6903e-01,\n",
       "         9.6918e-01, 9.7036e-01, 9.6907e-01],\n",
       "        [5.0955e-04, 5.2656e-04, 5.0983e-04, 5.3069e-04, 5.1066e-04, 5.0982e-04,\n",
       "         5.2867e-04, 9.9814e-01, 5.1372e-04, 5.2821e-04, 9.9816e-01, 5.1027e-04,\n",
       "         9.9899e-01, 5.2127e-04, 9.4683e-01, 9.6658e-01, 9.6866e-01, 9.6583e-01,\n",
       "         9.7116e-01, 9.6262e-01, 9.6707e-01, 9.6878e-01, 9.6772e-01, 9.6128e-01,\n",
       "         9.6728e-01, 9.6645e-01, 9.7421e-01, 9.6719e-01, 9.6471e-01, 9.6696e-01,\n",
       "         9.6778e-01, 9.6479e-01, 9.6843e-01, 9.6763e-01, 9.6656e-01, 9.5548e-01,\n",
       "         9.5700e-01, 9.6746e-01, 9.5595e-01],\n",
       "        [5.1206e-04, 9.9859e-01, 9.9566e-01, 5.0983e-04, 5.1363e-04, 5.1200e-04,\n",
       "         5.1023e-04, 5.5375e-04, 5.3051e-04, 5.0985e-04, 5.0978e-04, 5.2377e-04,\n",
       "         5.1576e-04, 9.2720e-01, 9.5366e-01, 9.5153e-01, 9.5583e-01, 9.4516e-01,\n",
       "         9.7738e-01, 9.0001e-01, 9.4784e-01, 9.6387e-01, 9.5430e-01, 8.8561e-01,\n",
       "         9.5035e-01, 9.4261e-01, 9.8093e-01, 9.4903e-01, 9.2137e-01, 9.4695e-01,\n",
       "         9.5526e-01, 9.2792e-01, 9.6045e-01, 9.5428e-01, 9.4373e-01, 8.1309e-01,\n",
       "         8.3568e-01, 9.5210e-01, 8.3087e-01],\n",
       "        [5.8808e-04, 6.9996e-04, 6.1884e-04, 7.3533e-04, 7.6003e-04, 6.2986e-04,\n",
       "         6.6988e-04, 1.1658e-03, 8.3199e-04, 9.9828e-01, 6.5596e-04, 6.3316e-04,\n",
       "         7.8397e-04, 6.8527e-04, 7.8380e-04, 8.8617e-04, 6.3218e-04, 1.0449e-03,\n",
       "         9.9812e-01, 6.0648e-04, 6.4942e-04, 9.9730e-01, 7.4949e-04, 7.4452e-04,\n",
       "         5.9242e-04, 6.7652e-04, 8.3753e-04, 6.8559e-04, 9.9006e-04, 7.3124e-04,\n",
       "         7.4951e-04, 6.3972e-04, 7.2890e-04, 6.7655e-04, 6.9724e-04, 6.8944e-04,\n",
       "         6.1733e-04, 7.1136e-04, 9.1835e-04]], grad_fn=<SqueezeBackward0>)"
      ]
     },
     "execution_count": 5,
     "metadata": {},
     "output_type": "execute_result"
    }
   ],
   "source": [
    "extraction_probabilities = model(sentence_embeddings)\n",
    "extraction_probabilities"
   ]
  },
  {
   "cell_type": "code",
   "execution_count": 6,
   "metadata": {},
   "outputs": [
    {
     "data": {
      "text/plain": [
       "tensor([[9.9871e-01, 9.9860e-01, 9.9328e-01, 7.0618e-04],\n",
       "        [9.9881e-01, 9.9775e-01, 9.9721e-01, 9.9666e-01],\n",
       "        [9.9866e-01, 9.9580e-01, 5.5258e-04, 5.2462e-04],\n",
       "        [9.9902e-01, 9.9828e-01, 9.9806e-01, 5.5226e-04],\n",
       "        [9.9894e-01, 9.9876e-01, 5.3652e-04, 5.1733e-04],\n",
       "        [9.9823e-01, 9.9809e-01, 5.7799e-04, 5.6243e-04],\n",
       "        [9.9861e-01, 9.9774e-01, 5.4555e-04, 5.2975e-04],\n",
       "        [9.9899e-01, 9.9816e-01, 9.9814e-01, 5.3069e-04],\n",
       "        [9.9859e-01, 9.9566e-01, 5.5375e-04, 5.3051e-04],\n",
       "        [9.9828e-01, 9.9812e-01, 9.9730e-01, 1.1658e-03]],\n",
       "       grad_fn=<TopkBackward>)"
      ]
     },
     "execution_count": 6,
     "metadata": {},
     "output_type": "execute_result"
    }
   ],
   "source": [
    "max_extracted_sentences = int(torch.max(torch.tensor([x.sum() for x in extraction_labels])))\n",
    "vals, predicted_idx = torch.topk((extraction_probabilities * mask), k=max_extracted_sentences, dim=1)\n",
    "vals"
   ]
  },
  {
   "cell_type": "code",
   "execution_count": 7,
   "metadata": {},
   "outputs": [
    {
     "name": "stdout",
     "output_type": "stream",
     "text": [
      "one french citizen , one belgian and three malians were killed in the attack in the capital of bamako , said gabriel toure , director of a local hospital .\n",
      "\n",
      "a north african jihadist group , al - murabitun , claimed responsibility for the attack , according to mauritanian news agency al akhbar . the purported claim came in an audio message in which the group said it carried out the attack in retaliation for the killing of one of its leaders , al akhbar said .\n",
      "\n",
      "\" al - murabitun may be considered a regional competitor to al - qaeda in the islamic maghreb ( aqim ) , \" according to the jamestown foundation , a washington - based research and analysis firm . the u.s. state department said in january that al - murabitun is a \" newly - formed \" militant group that has presence in northern mali .\n",
      "\n",
      "\n",
      "---------------------------\n",
      "\n",
      "\n",
      "\" al - murabitun may be considered a regional competitor to al - qaeda in the islamic maghreb ( aqim ) , \" according to the jamestown foundation , a washington - based research and analysis firm . the u.s. state department said in january that al - murabitun is a \" newly - formed \" militant group that has presence in northern mali .\n",
      "\n",
      "a north african jihadist group , al - murabitun , claimed responsibility for the attack , according to mauritanian news agency al akhbar . the purported claim came in an audio message in which the group said it carried out the attack in retaliation for the killing of one of its leaders , al akhbar said .\n",
      "\n",
      "one french citizen , one belgian and three malians were killed in the attack in the capital of bamako , said gabriel toure , director of a local hospital .\n",
      "\n",
      "\n",
      "-----------------------------------------------------\n",
      "-----------------------------------------------------\n",
      "-----------------------------------------------------\n",
      "\n",
      "\n",
      "( cnn ) french striker bafetimbi gomis , who has a history of fainting , said he is now \" feeling well \" after collapsing during swansea 's 3 - 2 loss at tottenham in the premier league on wednesday .\n",
      "\n",
      "the worrying incident occurred in the first half at white hart lane -- after tottenham scored in the seventh minute -- but the 29 - year - old left the pitch conscious following about five minutes of treatment . the guardian added that he was wearing an oxygen mask .\n",
      "\n",
      "\" i wanted to reassure you concerning my health , \" gomis told the website . \" it actually looks much scarier than it is physically dangerous , and i am feeling well now .\n",
      "\n",
      "almost exactly three years ago at white hart lane , then bolton midfielder fabrice muamba collapsed after suffering a cardiac arrest . he was near death , according to bolton , but survived after being treated at the london chest hospital .\n",
      "\n",
      "\n",
      "---------------------------\n",
      "\n",
      "\n",
      "( cnn ) french striker bafetimbi gomis , who has a history of fainting , said he is now \" feeling well \" after collapsing during swansea 's 3 - 2 loss at tottenham in the premier league on wednesday .\n",
      "\n",
      "the worrying incident occurred in the first half at white hart lane -- after tottenham scored in the seventh minute -- but the 29 - year - old left the pitch conscious following about five minutes of treatment . the guardian added that he was wearing an oxygen mask .\n",
      "\n",
      "\" i wanted to reassure you concerning my health , \" gomis told the website . \" it actually looks much scarier than it is physically dangerous , and i am feeling well now .\n",
      "\n",
      "almost exactly three years ago at white hart lane , then bolton midfielder fabrice muamba collapsed after suffering a cardiac arrest . he was near death , according to bolton , but survived after being treated at the london chest hospital .\n",
      "\n",
      "\n",
      "-----------------------------------------------------\n",
      "-----------------------------------------------------\n",
      "-----------------------------------------------------\n",
      "\n",
      "\n",
      "but when rory mcilroy pulled his second shot on the eighth hole of the wgc cadillac championship into a lake friday , he might as well have been channeling the much loved adam sandler character .\n",
      "\n",
      "before continuing his round with a dropped ball , the four - time major winner launched the 3 - iron used to play the offending shot into the water as well .\n",
      "\n",
      "\n",
      "---------------------------\n",
      "\n",
      "\n",
      "but when rory mcilroy pulled his second shot on the eighth hole of the wgc cadillac championship into a lake friday , he might as well have been channeling the much loved adam sandler character .\n",
      "\n",
      "before continuing his round with a dropped ball , the four - time major winner launched the 3 - iron used to play the offending shot into the water as well .\n",
      "\n",
      "\n",
      "-----------------------------------------------------\n",
      "-----------------------------------------------------\n",
      "-----------------------------------------------------\n",
      "\n",
      "\n",
      "\" weasels will go for anything that looks like food -- they 've got a high metabolism and they 've got to eat a lot , \" she said . \" it does n't surprise me that a weasel took a punt -- i 've seen a photo of a weasel charging a group of sparrows , they 're very hungry animals . \"\n",
      "\n",
      "weasels would not normally target green woodpeckers , pacheco said -- their predators are normally the size of a stoat or larger . but the birds are known to spend a fair amount of time on the ground pulling up worms and hunting insects .\n",
      "\n",
      "the pluckiness of the weasel spawned a number of parodies on twitter , with manipulated images showing the creature in turn being ridden by russian president vladimir putin , popstar miley cyrus , football star john terry -- and even what appears to be a dog red panda dressed in a darth vader costume . ( update : twitter has now educated us on the difference between a dog and a red panda . sorry , darth ! )\n",
      "\n",
      "\n",
      "---------------------------\n",
      "\n",
      "\n",
      "the pluckiness of the weasel spawned a number of parodies on twitter , with manipulated images showing the creature in turn being ridden by russian president vladimir putin , popstar miley cyrus , football star john terry -- and even what appears to be a dog red panda dressed in a darth vader costume . ( update : twitter has now educated us on the difference between a dog and a red panda . sorry , darth ! )\n",
      "\n",
      "weasels would not normally target green woodpeckers , pacheco said -- their predators are normally the size of a stoat or larger . but the birds are known to spend a fair amount of time on the ground pulling up worms and hunting insects .\n",
      "\n",
      "\" weasels will go for anything that looks like food -- they 've got a high metabolism and they 've got to eat a lot , \" she said . \" it does n't surprise me that a weasel took a punt -- i 've seen a photo of a weasel charging a group of sparrows , they 're very hungry animals . \"\n",
      "\n",
      "\n",
      "-----------------------------------------------------\n",
      "-----------------------------------------------------\n",
      "-----------------------------------------------------\n",
      "\n",
      "\n",
      "newtown police say cayman was last seen wearing a gray down winter jacket , black ski pants and hiking boots . he could be in the radnor - wayne area , roughly 20 miles from philadelphia , or may have purchased a train ticket to philadelphia , according to an alert posted on facebook .\n",
      "\n",
      "a message to families from the head of the shipley school , which cayman attends , read in part : \" cayman 's sister savannah is in ninth grade at shipley and his parents , farid and becky , are terrific people . they have contacted police and are aware that we are sending you this email . we hope that cayman is ok and are saying our prayers . \"\n",
      "\n",
      "\n",
      "---------------------------\n",
      "\n",
      "\n",
      "newtown police say cayman was last seen wearing a gray down winter jacket , black ski pants and hiking boots . he could be in the radnor - wayne area , roughly 20 miles from philadelphia , or may have purchased a train ticket to philadelphia , according to an alert posted on facebook .\n",
      "\n",
      "a message to families from the head of the shipley school , which cayman attends , read in part : \" cayman 's sister savannah is in ninth grade at shipley and his parents , farid and becky , are terrific people . they have contacted police and are aware that we are sending you this email . we hope that cayman is ok and are saying our prayers . \"\n",
      "\n",
      "\n",
      "-----------------------------------------------------\n",
      "-----------------------------------------------------\n",
      "-----------------------------------------------------\n",
      "\n",
      "\n",
      "( cnn ) my vote for father of the year goes to curt schilling . the former major league baseball pitcher recently fired off a series of fastballs and mowed down a group of twitter trolls who made the mistake of tweeting vulgar and sexually - explicit comments about schilling 's teenage daughter .\n",
      "\n",
      "finally , it 's worth reminding everyone that freedom of expression does not mean freedom from rules , standards , and expectations that should guide your behavior . there are things you do n't say . there are boundaries , ways that we expect you to behave so you do n't terrorize other people or bring shame upon yourself , your friends , and your family . if you do n't have social skills , you do n't belong on social media .\n",
      "\n",
      "\n",
      "---------------------------\n",
      "\n",
      "\n",
      "( cnn ) my vote for father of the year goes to curt schilling . the former major league baseball pitcher recently fired off a series of fastballs and mowed down a group of twitter trolls who made the mistake of tweeting vulgar and sexually - explicit comments about schilling 's teenage daughter .\n",
      "\n",
      "finally , it 's worth reminding everyone that freedom of expression does not mean freedom from rules , standards , and expectations that should guide your behavior . there are things you do n't say . there are boundaries , ways that we expect you to behave so you do n't terrorize other people or bring shame upon yourself , your friends , and your family . if you do n't have social skills , you do n't belong on social media .\n",
      "\n",
      "\n",
      "-----------------------------------------------------\n",
      "-----------------------------------------------------\n",
      "-----------------------------------------------------\n",
      "\n",
      "\n",
      "for $ 89 , self - styled entrepreneur kyle waring will ship you 6 pounds of boston - area snow in an insulated styrofoam box -- enough for 10 to 15 snowballs , he says .\n",
      "\n",
      "according to boston.com , it all started a few weeks ago , when waring and his wife were shoveling deep snow from their yard in manchester - by - the - sea , a coastal suburb north of boston . he joked about shipping the stuff to friends and family in warmer states , and an idea was born .\n",
      "\n",
      "\n",
      "---------------------------\n",
      "\n",
      "\n",
      "according to boston.com , it all started a few weeks ago , when waring and his wife were shoveling deep snow from their yard in manchester - by - the - sea , a coastal suburb north of boston . he joked about shipping the stuff to friends and family in warmer states , and an idea was born .\n",
      "\n",
      "for $ 89 , self - styled entrepreneur kyle waring will ship you 6 pounds of boston - area snow in an insulated styrofoam box -- enough for 10 to 15 snowballs , he says .\n",
      "\n",
      "\n",
      "-----------------------------------------------------\n",
      "-----------------------------------------------------\n",
      "-----------------------------------------------------\n",
      "\n",
      "\n",
      "\" weasels will go for anything that looks like food -- they 've got a high metabolism and they 've got to eat a lot , \" she said . \" it does n't surprise me that a weasel took a punt -- i 've seen a photo of a weasel charging a group of sparrows , they 're very hungry animals . \"\n",
      "\n",
      "weasels would not normally target green woodpeckers , pacheco said -- their predators are normally the size of a stoat or larger . but the birds are known to spend a fair amount of time on the ground pulling up worms and hunting insects .\n",
      "\n",
      "the pluckiness of the weasel spawned a number of parodies on twitter , with manipulated images showing the creature in turn being ridden by russian president vladimir putin , popstar miley cyrus , football star john terry -- and even what appears to be a dog red panda dressed in a darth vader costume . ( update : twitter has now educated us on the difference between a dog and a red panda . sorry , darth ! )\n",
      "\n",
      "\n",
      "---------------------------\n",
      "\n",
      "\n",
      "the pluckiness of the weasel spawned a number of parodies on twitter , with manipulated images showing the creature in turn being ridden by russian president vladimir putin , popstar miley cyrus , football star john terry -- and even what appears to be a dog red panda dressed in a darth vader costume . ( update : twitter has now educated us on the difference between a dog and a red panda . sorry , darth ! )\n",
      "\n",
      "weasels would not normally target green woodpeckers , pacheco said -- their predators are normally the size of a stoat or larger . but the birds are known to spend a fair amount of time on the ground pulling up worms and hunting insects .\n",
      "\n",
      "\" weasels will go for anything that looks like food -- they 've got a high metabolism and they 've got to eat a lot , \" she said . \" it does n't surprise me that a weasel took a punt -- i 've seen a photo of a weasel charging a group of sparrows , they 're very hungry animals . \"\n",
      "\n",
      "\n",
      "-----------------------------------------------------\n",
      "-----------------------------------------------------\n",
      "-----------------------------------------------------\n",
      "\n",
      "\n",
      "but when rory mcilroy pulled his second shot on the eighth hole of the wgc cadillac championship into a lake friday , he might as well have been channeling the much loved adam sandler character .\n",
      "\n",
      "before continuing his round with a dropped ball , the four - time major winner launched the 3 - iron used to play the offending shot into the water as well .\n",
      "\n",
      "\n",
      "---------------------------\n",
      "\n",
      "\n",
      "but when rory mcilroy pulled his second shot on the eighth hole of the wgc cadillac championship into a lake friday , he might as well have been channeling the much loved adam sandler character .\n",
      "\n",
      "before continuing his round with a dropped ball , the four - time major winner launched the 3 - iron used to play the offending shot into the water as well .\n",
      "\n",
      "\n",
      "-----------------------------------------------------\n",
      "-----------------------------------------------------\n",
      "-----------------------------------------------------\n",
      "\n",
      "\n",
      "according to phil rawlins , co-primary owner and president of the new mls franchise , orlando city soccer club , \" the industry and the game itself has moved on dramatically \" in the u.s. . he believes what would equal 50 years growth in most other industries has been experienced in the first two decades of the mls .\n",
      "\n",
      "a report by forbes at the end of 2013 , meanwhile , claimed that only 10 out of 19 mls teams were profitable . and as recently as this week , mls players looked like they could be going on strike over wages and the right of players to become free agents when their contracts end .\n",
      "\n",
      "this includes promising generation adidas players who enter the mls through the draft systems before completing their college education . homegrown players from club 's development academies are also exempt as are a maximum of three designated players ( dps ) , usually stellar international names whose wages and transfer fees will be covered by club owners or sponsors .\n",
      "\n",
      "\n",
      "---------------------------\n",
      "\n",
      "\n",
      "according to phil rawlins , co-primary owner and president of the new mls franchise , orlando city soccer club , \" the industry and the game itself has moved on dramatically \" in the u.s. . he believes what would equal 50 years growth in most other industries has been experienced in the first two decades of the mls .\n",
      "\n",
      "a report by forbes at the end of 2013 , meanwhile , claimed that only 10 out of 19 mls teams were profitable . and as recently as this week , mls players looked like they could be going on strike over wages and the right of players to become free agents when their contracts end .\n",
      "\n",
      "this includes promising generation adidas players who enter the mls through the draft systems before completing their college education . homegrown players from club 's development academies are also exempt as are a maximum of three designated players ( dps ) , usually stellar international names whose wages and transfer fees will be covered by club owners or sponsors .\n",
      "\n",
      "\n",
      "-----------------------------------------------------\n",
      "-----------------------------------------------------\n",
      "-----------------------------------------------------\n",
      "\n",
      "\n"
     ]
    }
   ],
   "source": [
    "for i, doc in enumerate(documents):\n",
    "    label_idx = extraction_labels[i].numpy()[:len(doc)]\n",
    "    label_idx = label_idx.astype(bool)\n",
    "    \n",
    "    n_summary_sentences = label_idx.sum()\n",
    "    \n",
    "    target = np.array(doc)[label_idx]\n",
    "    prediction = np.array(doc)[predicted_idx[i]][:n_summary_sentences]\n",
    "    \n",
    "    print(\"\\n\\n\".join(target.tolist()))\n",
    "    print(\"\\n\\n---------------------------\\n\\n\")\n",
    "    print(\"\\n\\n\".join(prediction.tolist()))\n",
    "    \n",
    "    print(\"\\n\\n-----------------------------------------------------\")\n",
    "    print(\"-----------------------------------------------------\")\n",
    "    print(\"-----------------------------------------------------\\n\\n\")\n"
   ]
  },
  {
   "cell_type": "code",
   "execution_count": 52,
   "metadata": {
    "scrolled": true
   },
   "outputs": [
    {
     "data": {
      "text/plain": [
       "torch.Size([2, 5, 768])"
      ]
     },
     "execution_count": 52,
     "metadata": {},
     "output_type": "execute_result"
    }
   ],
   "source": [
    "input_sentences = [\"Hello my name is Andrew\", \"roger is cool\"]\n"
   ]
  },
  {
   "cell_type": "code",
   "execution_count": 115,
   "metadata": {},
   "outputs": [
    {
     "name": "stdout",
     "output_type": "stream",
     "text": [
      "torch.Size([2, 1, 4])\n",
      "\n",
      "torch.Size([2, 1, 1])\n",
      "tensor([[[3]],\n",
      "\n",
      "        [[2]]])\n",
      "\n",
      "torch.Size([2, 1])\n",
      "tensor([[3],\n",
      "        [2]])\n"
     ]
    }
   ],
   "source": [
    "a = torch.randn((2, 1, 4))\n",
    "print(a.shape)\n",
    "print()\n",
    "print(torch.argmax(a, dim=2, keepdim=True).shape)\n",
    "print(torch.argmax(a, dim=2, keepdim=True))\n",
    "print()\n",
    "print(torch.argmax(a, dim=2).shape)\n",
    "print(torch.argmax(a, dim=2))"
   ]
  },
  {
   "cell_type": "code",
   "execution_count": 116,
   "metadata": {},
   "outputs": [
    {
     "data": {
      "text/plain": [
       "tensor([[3],\n",
       "        [2]])"
      ]
     },
     "execution_count": 116,
     "metadata": {},
     "output_type": "execute_result"
    }
   ],
   "source": []
  },
  {
   "cell_type": "code",
   "execution_count": 126,
   "metadata": {},
   "outputs": [
    {
     "data": {
      "text/plain": [
       "torch.Size([2, 1])"
      ]
     },
     "execution_count": 126,
     "metadata": {},
     "output_type": "execute_result"
    }
   ],
   "source": [
    "torch.argmax(a, dim=2).shape"
   ]
  },
  {
   "cell_type": "code",
   "execution_count": 125,
   "metadata": {},
   "outputs": [
    {
     "data": {
      "text/plain": [
       "torch.Size([2, 1, 768])"
      ]
     },
     "execution_count": 125,
     "metadata": {},
     "output_type": "execute_result"
    }
   ],
   "source": [
    "bert_model(torch.argmax(a, dim=2))[0].shape"
   ]
  },
  {
   "cell_type": "code",
   "execution_count": 63,
   "metadata": {},
   "outputs": [
    {
     "name": "stdout",
     "output_type": "stream",
     "text": [
      "tensor([[1, 2, 3],\n",
      "        [4, 5, 6],\n",
      "        [7, 8, 9]])\n"
     ]
    },
    {
     "data": {
      "text/plain": [
       "tensor([1, 6])"
      ]
     },
     "execution_count": 63,
     "metadata": {},
     "output_type": "execute_result"
    }
   ],
   "source": [
    "a = torch.tensor([\n",
    "    [1, 2, 3], \n",
    "    [4, 5, 6], \n",
    "    [7, 8, 9]\n",
    "])\n",
    "\n",
    "print(a)\n",
    "\n",
    "row = tuple(torch.tensor([0, 1]))\n",
    "columns = tuple(torch.tensor([0, 2]))\n",
    "a[row, columns]"
   ]
  }
 ],
 "metadata": {
  "kernelspec": {
   "display_name": "summarization-project",
   "language": "python",
   "name": "summarization-project"
  },
  "language_info": {
   "codemirror_mode": {
    "name": "ipython",
    "version": 3
   },
   "file_extension": ".py",
   "mimetype": "text/x-python",
   "name": "python",
   "nbconvert_exporter": "python",
   "pygments_lexer": "ipython3",
   "version": "3.7.7"
  }
 },
 "nbformat": 4,
 "nbformat_minor": 4
}
