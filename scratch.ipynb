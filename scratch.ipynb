{
 "cells": [
  {
   "cell_type": "code",
   "execution_count": 1,
   "metadata": {},
   "outputs": [],
   "source": [
    "from abstractor.train import get_training_batch\n",
    "from abstractor.utils import AbstractorModel, AbstractorModelRNN\n",
    "from abstractor.utils import obtain_initial_hidden_states\n",
    "from bert.utils import obtain_sentence_embeddings\n",
    "from bert.utils import obtain_word_embeddings\n",
    "from data.utils import load_training_dictionaries\n",
    "from extractor.utils import ExtractorModel\n",
    "from pytorch_transformers import BertModel\n",
    "from pytorch_transformers import BertTokenizer\n",
    "\n",
    "import numpy as np\n",
    "import torch"
   ]
  },
  {
   "cell_type": "code",
   "execution_count": 2,
   "metadata": {},
   "outputs": [],
   "source": [
    "# data = load_training_dictionaries()\n",
    "# documents, extraction_labels = get_training_batch(data, batch_size=2)"
   ]
  },
  {
   "cell_type": "code",
   "execution_count": 3,
   "metadata": {},
   "outputs": [],
   "source": [
    "# # Load data:\n",
    "# model = AbstractorModelRNN()\n",
    "# model_path = \"results/models/abstractor.pt\"\n",
    "# model.load_state_dict(torch.load(model_path))"
   ]
  },
  {
   "cell_type": "code",
   "execution_count": 4,
   "metadata": {},
   "outputs": [],
   "source": [
    "# source_documents, target_summaries = get_training_batch(data, 2)\n",
    "\n",
    "# # Obtain embeddings\n",
    "# source_document_embeddings, source_mask, source_tokens = obtain_word_embeddings(\n",
    "#     model.bert_model, model.bert_tokenizer, source_documents, static_embeddings=False\n",
    "# )\n",
    "# target_summary_embeddings, target_mask, target_tokens = obtain_word_embeddings(\n",
    "#     model.bert_model, model.bert_tokenizer, target_summaries, static_embeddings=True\n",
    "# )"
   ]
  },
  {
   "cell_type": "code",
   "execution_count": 5,
   "metadata": {},
   "outputs": [],
   "source": [
    "# # Obtain extraction probability for each word in vocabulary\n",
    "# extraction_probabilities, teacher_forcing = model(\n",
    "#     source_document_embeddings,\n",
    "#     target_summary_embeddings,\n",
    "#     teacher_forcing_pct=0\n",
    "# )  # (batch_size, n_target_words, vocab_size)\n",
    "\n",
    "# vals, predicted_idx = torch.topk((extraction_probabilities), k=1, dim=2)\n",
    "\n",
    "# for x in [model.bert_tokenizer.convert_ids_to_tokens(p) for p in predicted_idx.squeeze().tolist()]:\n",
    "#     print(f\"{x}\")\n",
    "#     print()\n",
    "\n",
    "\n",
    "# # Obtain extraction probability for each word in vocabulary\n",
    "# extraction_probabilities, teacher_forcing = model(\n",
    "#     source_document_embeddings,\n",
    "#     target_summary_embeddings,\n",
    "#     teacher_forcing_pct=1\n",
    "# )  # (batch_size, n_target_words, vocab_size)\n",
    "\n",
    "# vals, predicted_idx = torch.topk((extraction_probabilities), k=1, dim=2)\n",
    "\n",
    "# for x in [model.bert_tokenizer.convert_ids_to_tokens(p) for p in predicted_idx.squeeze().tolist()]:\n",
    "#     print(f\"{x}\")\n",
    "#     print()"
   ]
  },
  {
   "cell_type": "code",
   "execution_count": 6,
   "metadata": {},
   "outputs": [],
   "source": [
    "bert_tokenizer = BertTokenizer.from_pretrained('bert-base-uncased')"
   ]
  },
  {
   "cell_type": "code",
   "execution_count": null,
   "metadata": {},
   "outputs": [],
   "source": [
    "bert_tokenizer."
   ]
  }
 ],
 "metadata": {
  "kernelspec": {
   "display_name": "summarization-project",
   "language": "python",
   "name": "summarization-project"
  },
  "language_info": {
   "codemirror_mode": {
    "name": "ipython",
    "version": 3
   },
   "file_extension": ".py",
   "mimetype": "text/x-python",
   "name": "python",
   "nbconvert_exporter": "python",
   "pygments_lexer": "ipython3",
   "version": "3.7.7"
  }
 },
 "nbformat": 4,
 "nbformat_minor": 4
}
